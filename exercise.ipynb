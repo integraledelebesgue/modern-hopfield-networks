{
 "cells": [
  {
   "cell_type": "code",
   "execution_count": null,
   "id": "2d0fc937",
   "metadata": {},
   "outputs": [],
   "source": [
    "from typing import Self\n",
    "from random import randint\n",
    "from collections.abc import Callable\n",
    "\n",
    "import PIL.Image\n",
    "import torch\n",
    "from torchvision.utils import make_grid\n",
    "from torchvision.datasets import MNIST\n",
    "from torchvision.transforms.functional import pil_to_tensor\n",
    "from matplotlib import pyplot as plt"
   ]
  },
  {
   "cell_type": "code",
   "execution_count": null,
   "id": "0da0a20c",
   "metadata": {},
   "outputs": [],
   "source": [
    "def preprocess(image: PIL.Image.Image) -> torch.Tensor:\n",
    "    return pil_to_tensor(image).squeeze(0).div(255).round().to(torch.int32)\n",
    "\n",
    "\n",
    "def image_to_spin_pattern(image: torch.Tensor) -> torch.Tensor:\n",
    "    return (image * 2 - 1).to(torch.int32)\n",
    "\n",
    "\n",
    "def spin_pattern_to_image(tensor: torch.Tensor) -> torch.Tensor:\n",
    "    return ((tensor + 1) / 2).to(torch.int32)\n",
    "\n",
    "\n",
    "def obscure(image: torch.Tensor) -> torch.Tensor:\n",
    "    rows = image.shape[0]\n",
    "    obscured_image = image.clone()\n",
    "    obscured_image[rows // 2 :, ...] = 0\n",
    "    return obscured_image\n",
    "\n",
    "\n",
    "def display(images: torch.Tensor | list[torch.Tensor], title: str | None = None) -> None:\n",
    "    if isinstance(images, list):\n",
    "        images = torch.stack(images)\n",
    "\n",
    "    if images.min() < 0:\n",
    "        images = spin_pattern_to_image(images)\n",
    "\n",
    "    match images.ndim:\n",
    "        case 3:\n",
    "            grid = (\n",
    "                make_grid(images.unsqueeze(1) * 255, pad_value=255)\n",
    "                .permute((1, 2, 0))\n",
    "                .numpy()\n",
    "            )\n",
    "            plot = plt.imshow(grid, cmap=\"grey\")\n",
    "\n",
    "        case 2:\n",
    "            plot = plt.imshow(images.numpy(), cmap=\"grey\")\n",
    "\n",
    "        case other:\n",
    "            raise ValueError(f\"Invalid input dimensionality. Expected 2 or 3-dimensional tensor, got {other}\")\n",
    "\n",
    "    plot.axes.set_title(title or \"\")\n",
    "    plot.axes.set_axis_off()\n",
    "    plt.show()"
   ]
  },
  {
   "cell_type": "code",
   "execution_count": null,
   "id": "4c5808e4",
   "metadata": {},
   "outputs": [],
   "source": [
    "class ClassicalHopfieldNetwork:\n",
    "    size: int\n",
    "    weights: torch.Tensor\n",
    "    biases: torch.Tensor\n",
    "\n",
    "    def __init__(self, size: int, neuron_fire_threshold: float) -> None:\n",
    "        assert 0 < neuron_fire_threshold < 1\n",
    "\n",
    "        self.size = size\n",
    "        self.weights = torch.zeros((size, size), dtype=torch.float32)\n",
    "        self.biases = torch.full((size,), neuron_fire_threshold, dtype=torch.float32)\n",
    "\n",
    "    def fit(self, data: torch.Tensor) -> Self:\n",
    "        match data.shape:\n",
    "            case n_records, n_dimensions:\n",
    "                assert n_records > 0\n",
    "                assert n_dimensions == self.size\n",
    "\n",
    "            case other:\n",
    "                raise ValueError(f\"Invalid input shape. Expected 2-dimensional tensor (n_records x n_features), got {other}\")\n",
    "\n",
    "        assert data.dtype == torch.int32\n",
    "\n",
    "        self.weights[...] = data.T @ data / n_records\n",
    "        self.weights.diagonal()[...] = 0.0\n",
    "\n",
    "        return self\n",
    "\n",
    "    def predict(self, data: torch.Tensor) -> torch.Tensor:  # TODO: Remove\n",
    "        assert data.shape == (self.size,)\n",
    "        assert data.dtype == torch.int32\n",
    "\n",
    "        state = data\n",
    "        new_state = torch.sign(self.weights @ state.to(torch.float32) - self.biases).to(\n",
    "            torch.int32\n",
    "        )\n",
    "\n",
    "        while not torch.equal(state, new_state) or torch.equal(state, -new_state):\n",
    "            state = new_state\n",
    "            new_state = torch.sign(\n",
    "                self.weights @ state.to(torch.float32) - self.biases\n",
    "            ).to(torch.int32)\n",
    "\n",
    "        return state\n",
    "\n",
    "    def predict_async(self, data: torch.Tensor) -> torch.Tensor:\n",
    "        assert data.shape == (self.size,)\n",
    "        assert data.dtype == torch.int32\n",
    "\n",
    "        state = data.reshape(-1, 1).to(torch.float32, copy=True)\n",
    "\n",
    "        for i in range(self.size):\n",
    "            preactivation = self.weights[i, :] @ state - self.biases[i]\n",
    "            activation = torch.sign(preactivation)\n",
    "            state[i] = activation\n",
    "\n",
    "        return state.flatten().to(torch.int32)\n",
    "\n",
    "    def predict_async_stochastic(  # TODO: Remove\n",
    "        self, data: torch.Tensor, max_iterations: int = 1000\n",
    "    ) -> torch.Tensor:\n",
    "        assert data.shape == (self.size,)\n",
    "        assert data.dtype == torch.int32\n",
    "\n",
    "        state = data.reshape(-1, 1).to(torch.float32, copy=True)\n",
    "\n",
    "        for _ in range(max_iterations):\n",
    "            i = randint(0, self.size - 1)\n",
    "            preactivation = self.weights[i, :] @ state - self.biases[i]\n",
    "            activation = torch.sign(preactivation)\n",
    "            state[i] = activation\n",
    "\n",
    "        return state.flatten().to(torch.int32)"
   ]
  },
  {
   "cell_type": "code",
   "execution_count": null,
   "id": "33501271",
   "metadata": {},
   "outputs": [],
   "source": [
    "circle = torch.tensor(((-1, -1, -1), (-1, 1, -1), (-1, -1, -1)), dtype=torch.int32)\n",
    "cross = torch.tensor(((-1, 1, -1), (1, -1, 1), (-1, 1, -1)), dtype=torch.int32)\n",
    "cross_and_circle_network_input = torch.stack((circle.flatten(), cross.flatten()))"
   ]
  },
  {
   "cell_type": "code",
   "execution_count": 76,
   "id": "f2aa2d74",
   "metadata": {},
   "outputs": [
    {
     "data": {
      "image/png": "[encoded data removed]",
      "text/plain": [
       "<Figure size 640x480 with 1 Axes>"
      ]
     },
     "metadata": {},
     "output_type": "display_data"
    }
   ],
   "source": [
    "display([cross, circle])"
   ]
  },
  {
   "cell_type": "code",
   "execution_count": 59,
   "id": "382067b3",
   "metadata": {},
   "outputs": [],
   "source": [
    "cross_and_circle_network = ClassicalHopfieldNetwork(9, 0.3).fit(cross_and_circle_network_input)"
   ]
  },
  {
   "cell_type": "code",
   "execution_count": null,
   "id": "4119056e",
   "metadata": {},
   "outputs": [],
   "source": [
    "blank_image = torch.full((3, 3), -1, dtype=torch.int32)\n",
    "recalled_image = cross_and_circle_network.predict_async(blank_image.flatten()).reshape(3, 3)\n",
    "display([blank_image, recalled_image], \"Crosses & Circles - example of inference\")"
   ]
  },
  {
   "cell_type": "code",
   "execution_count": null,
   "id": "e8f78056",
   "metadata": {},
   "outputs": [
    {
     "data": {
      "image/png": "[encoded data removed]",
      "text/plain": [
       "<Figure size 640x480 with 1 Axes>"
      ]
     },
     "metadata": {},
     "output_type": "display_data"
    }
   ],
   "source": [
    "display(cross_and_circle_network.predict(torch.zeros(9, dtype=torch.int32)).reshape(3, 3))"
   ]
  },
  {
   "cell_type": "code",
   "execution_count": 47,
   "id": "f49e14f8",
   "metadata": {},
   "outputs": [],
   "source": [
    "def extract_digit_examples(mnist: MNIST) -> dict[int, torch.Tensor]:\n",
    "    all_digits = dict()\n",
    "\n",
    "    for image, label in mnist:\n",
    "        all_digits.setdefault(label, image)\n",
    "\n",
    "        if all(i in all_digits for i in range(10)):\n",
    "            break\n",
    "\n",
    "    return all_digits"
   ]
  },
  {
   "cell_type": "code",
   "execution_count": 48,
   "id": "19f4dd37",
   "metadata": {},
   "outputs": [],
   "source": [
    "mnist_train = MNIST(\"./data\", train=True, transform=preprocess, download=True)\n",
    "mnist_examples = extract_digit_examples(mnist_train)"
   ]
  },
  {
   "cell_type": "code",
   "execution_count": 51,
   "id": "dcbbd6c2",
   "metadata": {},
   "outputs": [
    {
     "data": {
      "image/png": "[encoded data removed]",
      "text/plain": [
       "<Figure size 640x480 with 1 Axes>"
      ]
     },
     "metadata": {},
     "output_type": "display_data"
    }
   ],
   "source": [
    "display([mnist_examples[digit] for digit in range(10)], title=\"Memories stored in the network\")"
   ]
  },
  {
   "cell_type": "code",
   "execution_count": 52,
   "id": "78f013af",
   "metadata": {},
   "outputs": [],
   "source": [
    "mnist_network_input = image_to_spin_pattern(torch.stack([digit.flatten() for digit in mnist_examples.values()]))"
   ]
  },
  {
   "cell_type": "code",
   "execution_count": 73,
   "id": "dcbccb4a",
   "metadata": {},
   "outputs": [],
   "source": [
    "mnist_network = ClassicalHopfieldNetwork(\n",
    "    size=28 * 28,\n",
    "    neuron_fire_threshold=0.5,\n",
    ").fit(mnist_network_input)"
   ]
  },
  {
   "cell_type": "code",
   "execution_count": 74,
   "id": "91f00ede",
   "metadata": {},
   "outputs": [],
   "source": [
    "zero = image_to_spin_pattern(mnist_examples[4])\n",
    "zero_obscured = image_to_spin_pattern(obscure(mnist_examples[4]))\n",
    "zero_recalled = mnist_network.predict_async(zero_obscured.flatten()).reshape(28, 28)"
   ]
  },
  {
   "cell_type": "code",
   "execution_count": 75,
   "id": "a1ea7b69",
   "metadata": {},
   "outputs": [
    {
     "data": {
      "image/png": "[encoded data removed]",
      "text/plain": [
       "<Figure size 640x480 with 1 Axes>"
      ]
     },
     "metadata": {},
     "output_type": "display_data"
    }
   ],
   "source": [
    "display([zero, zero_obscured, zero_recalled], title=\"Classical Hopfield Network - MNIST digit recall\")"
   ]
  },
  {
   "cell_type": "code",
   "execution_count": null,
   "id": "005c0d71",
   "metadata": {},
   "outputs": [],
   "source": [
    "class InteractionFunction:\n",
    "    function: Callable[[torch.Tensor], torch.Tensor]\n",
    "    derivative: Callable[[torch.Tensor], torch.Tensor]\n",
    "\n",
    "    def __init__(\n",
    "        self,\n",
    "        function: Callable[[torch.Tensor], torch.Tensor],\n",
    "        derivative: Callable[[torch.Tensor], torch.Tensor],\n",
    "    ) -> None:\n",
    "        self.function = function\n",
    "        self.derivative = derivative\n",
    "\n",
    "    def __call__(self, argument: torch.Tensor) -> torch.Tensor:\n",
    "        return self.function(argument)\n",
    "\n",
    "\n",
    "class PolynomialInteraction(InteractionFunction):\n",
    "    degree: int\n",
    "\n",
    "    def __init__(self, degree: int) -> None:\n",
    "        super().__init__(\n",
    "            function=lambda x: x**degree,\n",
    "            derivative=lambda x: degree * x ** (degree - 1),\n",
    "        )\n",
    "        self.degree = degree\n",
    "\n",
    "\n",
    "class ExponentialInteraction(InteractionFunction):\n",
    "    def __init__(self) -> None:\n",
    "        super().__init__(function=lambda x: x.exp(), derivative=lambda x: x.exp())\n",
    "\n",
    "\n",
    "class ModernHopfieldNetwork:\n",
    "    size: int\n",
    "    interaction: InteractionFunction\n",
    "    training_data: torch.Tensor\n",
    "    weights: torch.Tensor\n",
    "    biases: torch.Tensor\n",
    "\n",
    "    def __init__(self, size: int, neuron_fire_threshold: float, interaction: InteractionFunction) -> None:\n",
    "        assert 0 < neuron_fire_threshold < 1\n",
    "\n",
    "        self.size = size\n",
    "        self.interaction = interaction\n",
    "        self.training_data = torch.zeros((1, size), dtype=torch.int32)\n",
    "        self.weights = torch.zeros((size, size), dtype=torch.float32)\n",
    "        self.biases = torch.full((size,), neuron_fire_threshold, dtype=torch.float32)\n",
    "\n",
    "    def fit(self, data: torch.Tensor) -> Self:\n",
    "        match data.shape:\n",
    "            case n_records, n_dimensions:\n",
    "                assert n_records > 0\n",
    "                assert n_dimensions == self.size\n",
    "\n",
    "            case other:\n",
    "                raise ValueError(f\"Invalid input shape. Expected 2-dimensional tensor (n_records x n_features), got {other}\")\n",
    "\n",
    "        assert data.dtype == torch.int32\n",
    "        self.training_data = data.to(torch.float32, copy=True)\n",
    "\n",
    "        return self\n",
    "    \n",
    "    def energy(self, state: torch.Tensor) -> torch.Tensor:\n",
    "        n_memories = self.training_data.shape[0]\n",
    "        \n",
    "        # The original paper does not discuss the numerical properties of the algorithm.\n",
    "        # When using high-degree interactions (e.g. exponent, polynomial with degree > 15),\n",
    "        # especially in large networks with lots of memories,\n",
    "        # the energy can easily exceed the range of float32. \n",
    "        #\n",
    "        # Dividing the projected state by the number of memories does not affect the convergence\n",
    "        # and helps to keep the energy at reasonable level, making the algorithm more efficient and scalable.\n",
    "        projection = self.training_data @ state / n_memories\n",
    "        \n",
    "        return -torch.sum(self.interaction(projection))\n",
    "\n",
    "    def predict_async(self, data: torch.Tensor) -> torch.Tensor:\n",
    "        assert data.shape == (self.size,)\n",
    "        assert data.dtype == torch.int32\n",
    "\n",
    "        state = data.reshape(-1, 1).to(torch.float32, copy=True)\n",
    "\n",
    "        for i in range(self.size):\n",
    "            state[i] = 1\n",
    "            energy_with_one = self.energy(state)\n",
    "\n",
    "            state[i] = -1\n",
    "            energy_with_minus_one = self.energy(state)\n",
    "\n",
    "            state[i] = 1 if energy_with_one < energy_with_minus_one else -1\n",
    "\n",
    "        return state.flatten().to(torch.int32)\n",
    "    \n",
    "    def predict_async_stochastic(self, data: torch.Tensor, max_iterations: int) -> torch.Tensor:  # TODO: Remove\n",
    "        assert data.shape == (self.size,)\n",
    "        assert data.dtype == torch.int32\n",
    "\n",
    "        state = data.reshape(-1, 1).to(torch.float32, copy=True)\n",
    "\n",
    "        for _ in range(max_iterations):\n",
    "            i = randint(0, self.size - 1)\n",
    "\n",
    "            state[i] = 1\n",
    "            energy_with_one = self.energy(state)\n",
    "\n",
    "            state[i] = -1\n",
    "            energy_with_minus_one = self.energy(state)\n",
    "\n",
    "            state[i] = 1 if energy_with_one < energy_with_minus_one else -1\n",
    "\n",
    "        return state.flatten().to(torch.int32)"
   ]
  },
  {
   "cell_type": "code",
   "execution_count": null,
   "id": "ec9f4f88",
   "metadata": {},
   "outputs": [],
   "source": [
    "mnist_modern_network = ModernHopfieldNetwork(\n",
    "    size=28 * 28,\n",
    "    neuron_fire_threshold=0.5,\n",
    "    interaction=PolynomialInteraction(15),\n",
    ").fit(mnist_network_input)"
   ]
  },
  {
   "cell_type": "code",
   "execution_count": 70,
   "id": "6db96292",
   "metadata": {},
   "outputs": [
    {
     "data": {
      "image/png": "[encoded data removed]",
      "text/plain": [
       "<Figure size 640x480 with 1 Axes>"
      ]
     },
     "metadata": {},
     "output_type": "display_data"
    }
   ],
   "source": [
    "digit = image_to_spin_pattern(mnist_examples[4])\n",
    "digit_obscured = image_to_spin_pattern(obscure(mnist_examples[4]))\n",
    "digit_recalled = mnist_modern_network.predict_async(digit_obscured.flatten()).reshape(28, 28)\n",
    "display([digit, digit_obscured, digit_recalled], title=\"Modern Hopfield Network - MNIST digit recall\")"
   ]
  },
  {
   "cell_type": "code",
   "execution_count": null,
   "id": "9cee9948",
   "metadata": {},
   "outputs": [],
   "source": []
  }
 ],
 "metadata": {
  "kernelspec": {
   "display_name": "modern-hopfield-networks",
   "language": "python",
   "name": "python3"
  },
  "language_info": {
   "codemirror_mode": {
    "name": "ipython",
    "version": 3
   },
   "file_extension": ".py",
   "mimetype": "text/x-python",
   "name": "python",
   "nbconvert_exporter": "python",
   "pygments_lexer": "ipython3",
   "version": "3.11.4"
  }
 },
 "nbformat": 4,
 "nbformat_minor": 5
}
